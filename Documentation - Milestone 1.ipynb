{
 "cells": [
  {
   "cell_type": "markdown",
   "metadata": {},
   "source": [
    "# CS207-FinalProject : Group 11 : ChemKin Library\n",
    "### Group #11 consists of Karan R. Motwani, Shiyu Huang, Hannah Sim and Haixing Yin.\n",
    "\n",
    "ChemKin stands for Chemical Kinetics.\n",
    "\n",
    "CS207-FinalProject is a repository created for a Chemical Kinetics Library. It consists of algorithms, functions and documentation which helps a user to interpret the dynamics of a chemical reaction by returning the RHS i.e. Right Hand Side of Ordinary Differential Equation(s) for a system of chemical reaction(s). The library can handle :\n",
    "\n",
    "- Elementary reactions\n",
    "- Irreversible reactions\n",
    "- Constant reaction rate coefficients\n",
    "- Arrhenius reaction rate coefficients\n",
    "- Modified Arrhenius reaction rate coefficients\n",
    "\n",
    "\n",
    "The library is designed for flexibility, extensibility and ease of use. Its software design follows an object-oriented approach and its code is written on Python. The initial input provided by the user is an XML file while the individual parameters for a specific reaction are entered at run-time.\n",
    "\n",
    "## Installation\n",
    "1) Clone the repository into you local system.\n",
    "\n",
    "2) Open the 'parser.py' file and changed the variable 'path' to the location of your XML file.\n",
    "\n",
    "3) Run ChemKin.py from Terminal or Anaconda Prompt.\n",
    "\n",
    "4) Parameters specific to each reaction read from your XML file will be requested from you at run-time. (Ex. Concentrations, Temperature)\n",
    "\n",
    "5) Reaction rates for each individual reaction are then displayed on the screen.\n",
    "\n",
    "## Documentation\n",
    "The documentation for the library can be found [here](https://github.com/cs207-group11/cs207-FinalProject/blob/master/CS207_Documentation.pdf).\n",
    "\n",
    "## Dependencies\n",
    "At minimum, the ChemKin library requires :\n",
    "- numpy\n",
    "\n",
    "[Note : Anaconda's standard Python platform should suffice the dependency requirements.]\n",
    "## License\n",
    "The License file is present in the repository and can be accessed [here](https://github.com/cs207-group11/cs207-FinalProject). \n",
    "\n",
    "## Contributing\n",
    "Contributions are welcome (post project evaluation!). If you wish to contribute, please take a few moments to review the [branching model](http://nvie.com/posts/a-successful-git-branching-model/) this repository utilizes.\n",
    "\n",
    "## Support\n",
    "If you have questions or need help with using or contributing to the repository, feel free to ask questions through :\n",
    "- https://github.com/cs207-group11/cs207-FinalProject/issues\n"
   ]
  },
  {
   "cell_type": "code",
   "execution_count": null,
   "metadata": {
    "collapsed": true
   },
   "outputs": [],
   "source": []
  }
 ],
 "metadata": {
  "kernelspec": {
   "display_name": "Python 3",
   "language": "python",
   "name": "python3"
  },
  "language_info": {
   "codemirror_mode": {
    "name": "ipython",
    "version": 3
   },
   "file_extension": ".py",
   "mimetype": "text/x-python",
   "name": "python",
   "nbconvert_exporter": "python",
   "pygments_lexer": "ipython3",
   "version": "3.6.1"
  }
 },
 "nbformat": 4,
 "nbformat_minor": 2
}
